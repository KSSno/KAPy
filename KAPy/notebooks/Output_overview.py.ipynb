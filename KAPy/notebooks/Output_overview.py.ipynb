{
 "cells": [
  {
   "cell_type": "markdown",
   "id": "010cbf0a-8e5e-4e46-945e-8032e46232db",
   "metadata": {},
   "source": [
    "# KAPy Output Visualisation"
   ]
  },
  {
   "cell_type": "code",
   "execution_count": null,
   "id": "6c69d6ec-a1c5-4995-a7b4-d7364ecf123a",
   "metadata": {
    "tags": []
   },
   "outputs": [],
   "source": [
    "#First set the working directory correctly. Everything is KAPy is relative to the project / repo root directly. Ideally, this could be handled via\n",
    "#the options to run the jupyter notebook, but that doesn't seem to be possible. Instead we force the wd relative to this file\n",
    "import os\n",
    "os.chdir(\"../../\")"
   ]
  },
  {
   "cell_type": "code",
   "execution_count": null,
   "id": "1c3304f1-307f-4ba6-8c6d-8cd8a616b187",
   "metadata": {
    "tags": []
   },
   "outputs": [],
   "source": [
    "#Import other libraries\n",
    "import KAPy\n",
    "import IPython.display \n",
    "import pandas as pd\n",
    "import os"
   ]
  },
  {
   "cell_type": "code",
   "execution_count": null,
   "id": "8d3cef5b-7b05-493f-a12d-b648a05e0c40",
   "metadata": {
    "tags": []
   },
   "outputs": [],
   "source": [
    "#Load configuration and workflow\n",
    "#Ideally this should be passed as a parameter from snakemake\n",
    "config=KAPy.loadConfig()\n",
    "wf=KAPy.getWorkflow(config)\n"
   ]
  },
  {
   "cell_type": "code",
   "execution_count": null,
   "id": "3902acb6-0425-4e64-9120-02f1a8531128",
   "metadata": {
    "tags": []
   },
   "outputs": [],
   "source": [
    "#Get the list of potential inputs that can be used out of the workflow. Specifically, this is the ensstats netcdf files, and the areal stats.\n",
    "#We don't consider other combinations at the moment\n",
    "def makeInputDict(d):\n",
    "    inpTbl=pd.DataFrame(list(d.keys()),columns=['path'])\n",
    "    inpTbl['fname']=[os.path.basename(f) for f in inpTbl['path']]\n",
    "    inpTbl['indId']=inpTbl['fname'].str.extract(\"^i(.*?)_.*$\")\n",
    "    inpTbl['indSrc']=inpTbl['fname'].str.extract(\"^i.*?_(.*?)_.*$\")\n",
    "    inpTbl['indScen']=inpTbl['fname'].str.extract(\"^i.*?_.*?_(.*?)_.*$\")\n",
    "    inpDict=inpTbl.groupby('indId').apply(lambda x:list(x['path']),include_groups=False).to_dict()\n",
    "    return(inpDict)\n",
    "\n",
    "asDict=makeInputDict(wf['arealstats'])\n",
    "ensDict=makeInputDict(wf['ensstats'])"
   ]
  },
  {
   "cell_type": "code",
   "execution_count": null,
   "id": "645753f1-662b-4155-9b32-8c4a652e3ebc",
   "metadata": {
    "tags": []
   },
   "outputs": [],
   "source": [
    "#Loop over available indicators to make plots\n",
    "for thisInd in config['indicators'].values():\n",
    "    #Print the indicator name as a header\n",
    "    IPython.display.display(IPython.display.Markdown(f\"## Indicator {thisInd['id']} - {thisInd['name']}\"))\n",
    "   \n",
    "    #But what should we plot? It depends on the nature of the indicator\n",
    "    # * Period-based indicators should plot the spatial map and the plots\n",
    "    # * Yearly (or monthly) based indicators show a time series\n",
    "    if thisInd['time_binning']==\"periods\":\n",
    "        #Box plot\n",
    "        bxpFiles=asDict[str(thisInd['id'])]\n",
    "        p=KAPy.makeBoxplot(config,thisInd,bxpFiles)\n",
    "        p.show()\n",
    "\n",
    "        #Spatial plot\n",
    "        spFiles=ensDict[str(thisInd['id'])]\n",
    "        p=KAPy.makeSpatialplot(config,thisInd,spFiles)\n",
    "        p.show()\n",
    "    \n",
    "    elif thisInd['time_binning'] in [\"years\",'months']:\n",
    "        #Time series plot\n",
    "        lpFiles=asDict[str(thisInd['id'])]\n",
    "        p=KAPy.makeLineplot(config,thisInd,lpFiles)\n",
    "        p.show()\n"
   ]
  },
  {
   "cell_type": "code",
   "execution_count": null,
   "id": "f2c504d8-a60c-4072-a257-f6e75e0a41d5",
   "metadata": {
    "tags": []
   },
   "outputs": [],
   "source": []
  },
  {
   "cell_type": "code",
   "execution_count": null,
   "id": "4556448c-1ec8-4505-9449-5b3171366eef",
   "metadata": {},
   "outputs": [],
   "source": []
  }
 ],
 "metadata": {
  "kernelspec": {
   "display_name": "Python 3 (ipykernel)",
   "language": "python",
   "name": "python3"
  },
  "language_info": {
   "codemirror_mode": {
    "name": "ipython",
    "version": 3
   },
   "file_extension": ".py",
   "mimetype": "text/x-python",
   "name": "python",
   "nbconvert_exporter": "python",
   "pygments_lexer": "ipython3",
   "version": "3.10.11"
  }
 },
 "nbformat": 4,
 "nbformat_minor": 5
}
